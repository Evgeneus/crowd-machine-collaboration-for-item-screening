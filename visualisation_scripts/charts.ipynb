{
 "cells": [
  {
   "cell_type": "code",
   "execution_count": 3,
   "metadata": {
    "collapsed": true
   },
   "outputs": [],
   "source": [
    "%matplotlib inline\n",
    "\n",
    "import numpy as np\n",
    "import pandas as pd\n",
    "import matplotlib.pyplot as plt\n",
    "import matplotlib.lines as mlines"
   ]
  },
  {
   "cell_type": "markdown",
   "metadata": {},
   "source": [
    "Params: n_papers = 1000, lr = 5, sm_runs_trsh = 0.99"
   ]
  },
  {
   "cell_type": "markdown",
   "metadata": {},
   "source": [
    "# 1. Comparison of the Baseline algorithms\n",
    "### Dong vs Dawid vs MV"
   ]
  },
  {
   "cell_type": "code",
   "execution_count": 4,
   "metadata": {},
   "outputs": [
    {
     "ename": "FileNotFoundError",
     "evalue": "File b'../output/data/dong_dawid_mv.csv' does not exist",
     "output_type": "error",
     "traceback": [
      "\u001b[0;31m---------------------------------------------------------------------------\u001b[0m",
      "\u001b[0;31mFileNotFoundError\u001b[0m                         Traceback (most recent call last)",
      "\u001b[0;32m<ipython-input-4-d5ad0280509e>\u001b[0m in \u001b[0;36m<module>\u001b[0;34m()\u001b[0m\n\u001b[1;32m      1\u001b[0m \u001b[0;34m\u001b[0m\u001b[0m\n\u001b[0;32m----> 2\u001b[0;31m \u001b[0mdata\u001b[0m \u001b[0;34m=\u001b[0m \u001b[0mpd\u001b[0m\u001b[0;34m.\u001b[0m\u001b[0mread_csv\u001b[0m\u001b[0;34m(\u001b[0m\u001b[0;34m'../output/data/dong_dawid_mv.csv'\u001b[0m\u001b[0;34m)\u001b[0m\u001b[0;34m\u001b[0m\u001b[0m\n\u001b[0m\u001b[1;32m      3\u001b[0m \u001b[0;34m\u001b[0m\u001b[0m\n\u001b[1;32m      4\u001b[0m \u001b[0mfig\u001b[0m\u001b[0;34m,\u001b[0m \u001b[0max\u001b[0m \u001b[0;34m=\u001b[0m \u001b[0mplt\u001b[0m\u001b[0;34m.\u001b[0m\u001b[0msubplots\u001b[0m\u001b[0;34m(\u001b[0m\u001b[0mfigsize\u001b[0m\u001b[0;34m=\u001b[0m\u001b[0;34m(\u001b[0m\u001b[0;36m8\u001b[0m\u001b[0;34m,\u001b[0m\u001b[0;36m6\u001b[0m\u001b[0;34m)\u001b[0m\u001b[0;34m)\u001b[0m\u001b[0;34m\u001b[0m\u001b[0m\n\u001b[1;32m      5\u001b[0m \u001b[0mcolors\u001b[0m \u001b[0;34m=\u001b[0m \u001b[0;34m[\u001b[0m\u001b[0;34m'red'\u001b[0m\u001b[0;34m,\u001b[0m \u001b[0;34m'blue'\u001b[0m\u001b[0;34m,\u001b[0m \u001b[0;34m'green'\u001b[0m\u001b[0;34m]\u001b[0m\u001b[0;34m\u001b[0m\u001b[0m\n",
      "\u001b[0;32m/anaconda3/lib/python3.6/site-packages/pandas/io/parsers.py\u001b[0m in \u001b[0;36mparser_f\u001b[0;34m(filepath_or_buffer, sep, delimiter, header, names, index_col, usecols, squeeze, prefix, mangle_dupe_cols, dtype, engine, converters, true_values, false_values, skipinitialspace, skiprows, nrows, na_values, keep_default_na, na_filter, verbose, skip_blank_lines, parse_dates, infer_datetime_format, keep_date_col, date_parser, dayfirst, iterator, chunksize, compression, thousands, decimal, lineterminator, quotechar, quoting, escapechar, comment, encoding, dialect, tupleize_cols, error_bad_lines, warn_bad_lines, skipfooter, skip_footer, doublequote, delim_whitespace, as_recarray, compact_ints, use_unsigned, low_memory, buffer_lines, memory_map, float_precision)\u001b[0m\n\u001b[1;32m    653\u001b[0m                     skip_blank_lines=skip_blank_lines)\n\u001b[1;32m    654\u001b[0m \u001b[0;34m\u001b[0m\u001b[0m\n\u001b[0;32m--> 655\u001b[0;31m         \u001b[0;32mreturn\u001b[0m \u001b[0m_read\u001b[0m\u001b[0;34m(\u001b[0m\u001b[0mfilepath_or_buffer\u001b[0m\u001b[0;34m,\u001b[0m \u001b[0mkwds\u001b[0m\u001b[0;34m)\u001b[0m\u001b[0;34m\u001b[0m\u001b[0m\n\u001b[0m\u001b[1;32m    656\u001b[0m \u001b[0;34m\u001b[0m\u001b[0m\n\u001b[1;32m    657\u001b[0m     \u001b[0mparser_f\u001b[0m\u001b[0;34m.\u001b[0m\u001b[0m__name__\u001b[0m \u001b[0;34m=\u001b[0m \u001b[0mname\u001b[0m\u001b[0;34m\u001b[0m\u001b[0m\n",
      "\u001b[0;32m/anaconda3/lib/python3.6/site-packages/pandas/io/parsers.py\u001b[0m in \u001b[0;36m_read\u001b[0;34m(filepath_or_buffer, kwds)\u001b[0m\n\u001b[1;32m    403\u001b[0m \u001b[0;34m\u001b[0m\u001b[0m\n\u001b[1;32m    404\u001b[0m     \u001b[0;31m# Create the parser.\u001b[0m\u001b[0;34m\u001b[0m\u001b[0;34m\u001b[0m\u001b[0m\n\u001b[0;32m--> 405\u001b[0;31m     \u001b[0mparser\u001b[0m \u001b[0;34m=\u001b[0m \u001b[0mTextFileReader\u001b[0m\u001b[0;34m(\u001b[0m\u001b[0mfilepath_or_buffer\u001b[0m\u001b[0;34m,\u001b[0m \u001b[0;34m**\u001b[0m\u001b[0mkwds\u001b[0m\u001b[0;34m)\u001b[0m\u001b[0;34m\u001b[0m\u001b[0m\n\u001b[0m\u001b[1;32m    406\u001b[0m \u001b[0;34m\u001b[0m\u001b[0m\n\u001b[1;32m    407\u001b[0m     \u001b[0;32mif\u001b[0m \u001b[0mchunksize\u001b[0m \u001b[0;32mor\u001b[0m \u001b[0miterator\u001b[0m\u001b[0;34m:\u001b[0m\u001b[0;34m\u001b[0m\u001b[0m\n",
      "\u001b[0;32m/anaconda3/lib/python3.6/site-packages/pandas/io/parsers.py\u001b[0m in \u001b[0;36m__init__\u001b[0;34m(self, f, engine, **kwds)\u001b[0m\n\u001b[1;32m    762\u001b[0m             \u001b[0mself\u001b[0m\u001b[0;34m.\u001b[0m\u001b[0moptions\u001b[0m\u001b[0;34m[\u001b[0m\u001b[0;34m'has_index_names'\u001b[0m\u001b[0;34m]\u001b[0m \u001b[0;34m=\u001b[0m \u001b[0mkwds\u001b[0m\u001b[0;34m[\u001b[0m\u001b[0;34m'has_index_names'\u001b[0m\u001b[0;34m]\u001b[0m\u001b[0;34m\u001b[0m\u001b[0m\n\u001b[1;32m    763\u001b[0m \u001b[0;34m\u001b[0m\u001b[0m\n\u001b[0;32m--> 764\u001b[0;31m         \u001b[0mself\u001b[0m\u001b[0;34m.\u001b[0m\u001b[0m_make_engine\u001b[0m\u001b[0;34m(\u001b[0m\u001b[0mself\u001b[0m\u001b[0;34m.\u001b[0m\u001b[0mengine\u001b[0m\u001b[0;34m)\u001b[0m\u001b[0;34m\u001b[0m\u001b[0m\n\u001b[0m\u001b[1;32m    765\u001b[0m \u001b[0;34m\u001b[0m\u001b[0m\n\u001b[1;32m    766\u001b[0m     \u001b[0;32mdef\u001b[0m \u001b[0mclose\u001b[0m\u001b[0;34m(\u001b[0m\u001b[0mself\u001b[0m\u001b[0;34m)\u001b[0m\u001b[0;34m:\u001b[0m\u001b[0;34m\u001b[0m\u001b[0m\n",
      "\u001b[0;32m/anaconda3/lib/python3.6/site-packages/pandas/io/parsers.py\u001b[0m in \u001b[0;36m_make_engine\u001b[0;34m(self, engine)\u001b[0m\n\u001b[1;32m    983\u001b[0m     \u001b[0;32mdef\u001b[0m \u001b[0m_make_engine\u001b[0m\u001b[0;34m(\u001b[0m\u001b[0mself\u001b[0m\u001b[0;34m,\u001b[0m \u001b[0mengine\u001b[0m\u001b[0;34m=\u001b[0m\u001b[0;34m'c'\u001b[0m\u001b[0;34m)\u001b[0m\u001b[0;34m:\u001b[0m\u001b[0;34m\u001b[0m\u001b[0m\n\u001b[1;32m    984\u001b[0m         \u001b[0;32mif\u001b[0m \u001b[0mengine\u001b[0m \u001b[0;34m==\u001b[0m \u001b[0;34m'c'\u001b[0m\u001b[0;34m:\u001b[0m\u001b[0;34m\u001b[0m\u001b[0m\n\u001b[0;32m--> 985\u001b[0;31m             \u001b[0mself\u001b[0m\u001b[0;34m.\u001b[0m\u001b[0m_engine\u001b[0m \u001b[0;34m=\u001b[0m \u001b[0mCParserWrapper\u001b[0m\u001b[0;34m(\u001b[0m\u001b[0mself\u001b[0m\u001b[0;34m.\u001b[0m\u001b[0mf\u001b[0m\u001b[0;34m,\u001b[0m \u001b[0;34m**\u001b[0m\u001b[0mself\u001b[0m\u001b[0;34m.\u001b[0m\u001b[0moptions\u001b[0m\u001b[0;34m)\u001b[0m\u001b[0;34m\u001b[0m\u001b[0m\n\u001b[0m\u001b[1;32m    986\u001b[0m         \u001b[0;32melse\u001b[0m\u001b[0;34m:\u001b[0m\u001b[0;34m\u001b[0m\u001b[0m\n\u001b[1;32m    987\u001b[0m             \u001b[0;32mif\u001b[0m \u001b[0mengine\u001b[0m \u001b[0;34m==\u001b[0m \u001b[0;34m'python'\u001b[0m\u001b[0;34m:\u001b[0m\u001b[0;34m\u001b[0m\u001b[0m\n",
      "\u001b[0;32m/anaconda3/lib/python3.6/site-packages/pandas/io/parsers.py\u001b[0m in \u001b[0;36m__init__\u001b[0;34m(self, src, **kwds)\u001b[0m\n\u001b[1;32m   1603\u001b[0m         \u001b[0mkwds\u001b[0m\u001b[0;34m[\u001b[0m\u001b[0;34m'allow_leading_cols'\u001b[0m\u001b[0;34m]\u001b[0m \u001b[0;34m=\u001b[0m \u001b[0mself\u001b[0m\u001b[0;34m.\u001b[0m\u001b[0mindex_col\u001b[0m \u001b[0;32mis\u001b[0m \u001b[0;32mnot\u001b[0m \u001b[0;32mFalse\u001b[0m\u001b[0;34m\u001b[0m\u001b[0m\n\u001b[1;32m   1604\u001b[0m \u001b[0;34m\u001b[0m\u001b[0m\n\u001b[0;32m-> 1605\u001b[0;31m         \u001b[0mself\u001b[0m\u001b[0;34m.\u001b[0m\u001b[0m_reader\u001b[0m \u001b[0;34m=\u001b[0m \u001b[0mparsers\u001b[0m\u001b[0;34m.\u001b[0m\u001b[0mTextReader\u001b[0m\u001b[0;34m(\u001b[0m\u001b[0msrc\u001b[0m\u001b[0;34m,\u001b[0m \u001b[0;34m**\u001b[0m\u001b[0mkwds\u001b[0m\u001b[0;34m)\u001b[0m\u001b[0;34m\u001b[0m\u001b[0m\n\u001b[0m\u001b[1;32m   1606\u001b[0m \u001b[0;34m\u001b[0m\u001b[0m\n\u001b[1;32m   1607\u001b[0m         \u001b[0;31m# XXX\u001b[0m\u001b[0;34m\u001b[0m\u001b[0;34m\u001b[0m\u001b[0m\n",
      "\u001b[0;32mpandas/_libs/parsers.pyx\u001b[0m in \u001b[0;36mpandas._libs.parsers.TextReader.__cinit__ (pandas/_libs/parsers.c:4209)\u001b[0;34m()\u001b[0m\n",
      "\u001b[0;32mpandas/_libs/parsers.pyx\u001b[0m in \u001b[0;36mpandas._libs.parsers.TextReader._setup_parser_source (pandas/_libs/parsers.c:8873)\u001b[0;34m()\u001b[0m\n",
      "\u001b[0;31mFileNotFoundError\u001b[0m: File b'../output/data/dong_dawid_mv.csv' does not exist"
     ]
    }
   ],
   "source": [
    "\n",
    "data = pd.read_csv('../output/data/dong_dawid_mv.csv')\n",
    "\n",
    "fig, ax = plt.subplots(figsize=(8,6))\n",
    "colors = ['red', 'blue', 'green']\n",
    "plt.gca().set_color_cycle(colors)\n",
    "# x = [1, 2, 3, 4, 5, 6, 7, 8, 9, 10]\n",
    "J_arr = [3, 5]\n",
    "algs_arr = ['dong', 'dawid', 'mv']\n",
    "algs_name = ['TruthFinder', 'DawidSkene', 'MV']\n",
    "handles = []\n",
    "# legend set up\n",
    "for  alg, col in zip(algs_name, colors):\n",
    "    handles.append(mlines.Line2D([], [], color=col, marker='', label=alg))\n",
    "handles.append(mlines.Line2D([], [], linestyle='none', color='black', marker='.', label='J = 3'))\n",
    "handles.append(mlines.Line2D([], [], linestyle='none', color='black', marker='*', label='J = 5'))\n",
    "\n",
    "def plot_alg(J, marker):\n",
    "    for alg in algs_arr:\n",
    "        x = data.loc[(data['alg'] == alg) & (data['J'] == J)]['price_mean'].values\n",
    "        y = data.loc[(data['alg'] == alg) & (data['J'] == J)]['loss_mean'].values\n",
    "        plt.plot(x, y, label='J={},  '.format(J)+alg, marker=marker)\n",
    "\n",
    "plot_alg(3, '.')\n",
    "plot_alg(5, '*')\n",
    "    \n",
    "plt.title('TruthFinder vs DawidSkene vs MV', size=15)\n",
    "plt.xlabel('Price', size=14)\n",
    "plt.ylabel('Loss', size=14)\n",
    "plt.legend(handles=handles, fontsize = 12)\n",
    "plt.grid()"
   ]
  },
  {
   "cell_type": "markdown",
   "metadata": {},
   "source": [
    "# 2. Baseline vs Baseline-cr (that separate criteria)"
   ]
  },
  {
   "cell_type": "code",
   "execution_count": null,
   "metadata": {
    "collapsed": true
   },
   "outputs": [],
   "source": [
    "data = pd.read_csv('../output/data/baseline_vs_baseline_cr.csv')\n",
    "\n",
    "fig, ax = plt.subplots(figsize=(8,6))\n",
    "colors = ['blue', 'red']\n",
    "plt.gca().set_color_cycle(colors)\n",
    "x = [1, 2, 3, 4, 5, 6, 7, 8, 9, 10]\n",
    "algs_arr = ['Baseline', 'Baseline-criteria']\n",
    "handles = []\n",
    "# legend set up\n",
    "for  alg, col in zip(algs_arr, colors):\n",
    "    handles.append(mlines.Line2D([], [], color=col, marker='', label=alg))\n",
    "handles.append(mlines.Line2D([], [], linestyle='none', color='black', marker='.', label='J = 3'))\n",
    "handles.append(mlines.Line2D([], [], linestyle='none', color='black', marker='*', label='J = 5'))\n",
    "handles.append(mlines.Line2D([], [], linestyle='none', color='black', marker='^', label='J = 10'))\n",
    "\n",
    "def plot_alg(J, marker):\n",
    "    for alg in algs_arr:\n",
    "        y = data.loc[(data['alg'] == alg) & (data['J'] == J)]['loss_mean'].values\n",
    "        plt.plot(x, y, label='J={},  '.format(J)+alg, marker=marker)\n",
    "\n",
    "plot_alg(3, '.')\n",
    "plot_alg(5, '*')\n",
    "plot_alg(10, '^')\n",
    "    \n",
    "plt.title('Dong vs Dawid vs MV', size=15)\n",
    "plt.xlabel('Nt', size=14)\n",
    "plt.ylabel('Loss', size=14)\n",
    "plt.legend(handles=handles, fontsize = 12)\n",
    "plt.grid()"
   ]
  },
  {
   "cell_type": "markdown",
   "metadata": {},
   "source": [
    "# 3. SM-runs convergence\n",
    "Chart shows the number of unclassified papers after i interactions"
   ]
  },
  {
   "cell_type": "code",
   "execution_count": null,
   "metadata": {
    "collapsed": true
   },
   "outputs": [],
   "source": [
    "conv_data = pd.read_csv('../output/data/convergence_test.csv')\n",
    "\n",
    "x_conv = range(1, 51)\n",
    "y1 = conv_data.iloc[0].values[2:] #Nt=3 J=3\n",
    "y2 = conv_data.iloc[1].values[2:] #Nt=3 J=5\n",
    "y3 = conv_data.iloc[2].values[2:] #Nt=5 J=3\n",
    "y4 = conv_data.iloc[3].values[2:] #Nt=5 J=5\n",
    "\n",
    "fig, ax = plt.subplots(figsize=(8,6))\n",
    "plt.gca().set_color_cycle(['yellow', 'green', 'red', 'blue', 'red'])\n",
    "plt.plot(x_conv, y1)\n",
    "plt.plot(x_conv, y2)\n",
    "plt.plot(x_conv, y3)\n",
    "plt.plot(x_conv, y4)\n",
    "plt.legend(['Nt = 3,  J = 3', 'Nt = 3 , J = 5', 'Nt = 5,  J = 3', 'Nt = 5,  J = 5'], \n",
    "           loc='upper right', fontsize = 12)\n",
    "plt.ylabel('#Unclassified papers')\n",
    "plt.xlabel('Iteration')\n",
    "plt.title('#Unclassified papers vs Iteration')\n",
    "plt.grid()\n",
    "plt.show()"
   ]
  },
  {
   "cell_type": "markdown",
   "metadata": {},
   "source": [
    "# 4. SM-runs baseline round\n",
    "The chart depicts Loss vs Price trade off for the proportion of papers p used in baseline iteration (p=0.1 means 10% from I). Each dot reflects the number of votes per criteria J. J = [1, ..., 10], lr = 5, sm_runs_trsh = 0.99, stop to iterate if within 5 iterations #Unclassified_papers remains the same."
   ]
  },
  {
   "cell_type": "code",
   "execution_count": null,
   "metadata": {
    "collapsed": true
   },
   "outputs": [],
   "source": [
    "br = pd.read_csv('../output/data/baseline_round.csv')\n",
    "br = br.loc[br['alg'] == 'SM-runs']\n",
    "\n",
    "fig, ax = plt.subplots(figsize=(8,6))\n",
    "plt.gca().set_color_cycle(['green', 'red', 'orange', 'blue', 'brown', 'y', c])\n",
    "labels = br['fr_p'].unique()\n",
    "for fr_p in labels:\n",
    "    x = br.loc[br['fr_p'] == fr_p]['price_mean']\n",
    "    y=br.loc[br['fr_p'] == fr_p]['loss_mean']\n",
    "    plt.plot(x, y, label='p: {}'.format(fr_p), marker='.')\n",
    "plt.title('Loss vs Price for different J, prop', size=15)\n",
    "plt.xlabel('Price', size=14)\n",
    "plt.ylabel('Loss', size=14)\n",
    "# plt.legend(fontsize = 12)\n",
    "plt.legend(['prop: 2%', 'prop: 5%', 'prop: 10%', 'prop: 20%',\n",
    "           'prop: 30%', 'prop: 40%', 'prop: 50%'], \n",
    "           loc='upper right', fontsize = 12)\n",
    "plt.grid()"
   ]
  },
  {
   "cell_type": "markdown",
   "metadata": {},
   "source": [
    "# 5. Loss vs Nt\n",
    "Loss vs Nt for baseline, M-runs, SM-runs. J = [3, 5], p = [0.1, 0.05], lr = 5, sm_runs_trsh = 0.99, stop to iterate if within 5 iterations #Unclassified_papers remains the same."
   ]
  },
  {
   "cell_type": "code",
   "execution_count": null,
   "metadata": {
    "collapsed": true
   },
   "outputs": [],
   "source": [
    "algs_arr = ['Baseline', 'SM-runs', 'M-runs']\n",
    "colors = ['red', 'blue', 'green']\n",
    "# legend set up\n",
    "handles = []\n",
    "labels = []\n",
    "for alg, col in zip(algs_arr, colors):\n",
    "    handles.append(mlines.Line2D([], [], color=col, marker='', label=alg))\n",
    "    labels.append(alg)\n",
    "handles.append(mlines.Line2D([], [], linestyle='none', color='black', marker='.'))\n",
    "handles.append(mlines.Line2D([], [], linestyle='none', color='black', marker='*'))\n",
    "labels.append('J = 3')\n",
    "labels.append('J = 5')"
   ]
  },
  {
   "cell_type": "code",
   "execution_count": null,
   "metadata": {
    "collapsed": true
   },
   "outputs": [],
   "source": [
    "data = pd.read_csv('../output/data/loss_tests_lr5_fr01.csv')\n",
    "data2 = pd.read_csv('../output/data/loss_tests_lr5_fr005.csv')\n",
    "\n",
    "fig, ax = plt.subplots(nrows=1, ncols=2, gridspec_kw = {'width_ratios':[1, 1]}, figsize=(16,6))\n",
    "ax[0].set_color_cycle(colors)\n",
    "# x = [1, 2, 3, 4, 5]\n",
    "x = [1, 2, 3, 4, 5, 6, 7, 8, 9, 10]\n",
    "J_arr = [3, 5]\n",
    "\n",
    "def plot_alg(data, J, marker, i):\n",
    "    for alg in algs_arr:\n",
    "        y = data.loc[(data['alg'] == alg) & (data['J'] == J)]['loss_mean']\n",
    "        ax[i].plot(x, y, label='J={},  '.format(J)+alg, marker=marker)\n",
    "\n",
    "plot_alg(data, 3, '.', 0)\n",
    "plot_alg(data, 5, '*', 0)   \n",
    "ax[0].set_title('Loss vs  Nt, first iteration 10% papers', size=15)\n",
    "ax[0].set_xlabel('Nt', size=14)\n",
    "ax[0].set_ylabel('Loss', size=14)\n",
    "ax[0].legend(handles, labels, fontsize = 12)\n",
    "ax[0].grid()\n",
    "\n",
    "ax[1].set_color_cycle(colors)\n",
    "plot_alg(data2, 3, '.', 1)\n",
    "plot_alg(data2, 5, '*', 1)   \n",
    "ax[1].set_title('Loss vs  Nt, first_iteration 5% papers', size=15)\n",
    "ax[1].set_xlabel('Nt', size=14)\n",
    "ax[1].set_ylabel('Loss', size=14)\n",
    "ax[1].legend(handles, labels, fontsize = 12)\n",
    "ax[1].grid()\n",
    "\n"
   ]
  },
  {
   "cell_type": "markdown",
   "metadata": {},
   "source": [
    "# 6. Loss vs Price"
   ]
  },
  {
   "cell_type": "code",
   "execution_count": null,
   "metadata": {
    "collapsed": true
   },
   "outputs": [],
   "source": [
    "# legend set up\n",
    "handles2 = []\n",
    "labels2 = []\n",
    "for alg, col in zip(algs_arr, colors):\n",
    "    handles2.append(mlines.Line2D([], [], color=col, marker='', label=alg))\n",
    "    labels2.append(alg)\n",
    "for marker, lable in zip(['.', '*', '^'], ['J = 3', 'J = 5', 'J = 10']):\n",
    "    handles2.append(mlines.Line2D([], [], linestyle='none', color='black', marker=marker))\n",
    "    labels2.append(lable)"
   ]
  },
  {
   "cell_type": "code",
   "execution_count": null,
   "metadata": {
    "collapsed": true
   },
   "outputs": [],
   "source": [
    "data2 = pd.read_csv('../output/data/loss_tests_lr5_fr005.csv')\n",
    "\n",
    "fig, ax = plt.subplots(figsize=(8,6))\n",
    "ax.set_color_cycle(colors)\n",
    "J = [3, 5, 10]\n",
    "markers = ['.', '*', '^']\n",
    "def plot_alg(data, J, marker):\n",
    "    for alg in algs_arr:\n",
    "        x = data.loc[(data['alg'] == alg) & (data['J'] == J)]['price_mean'].values\n",
    "        y = data.loc[(data['alg'] == alg) & (data['J'] == J)]['precision'].values\n",
    "        plt.plot(x, y, label='J={},  '.format(J)+alg, marker=marker)\n",
    "\n",
    "for j, marker in zip(J, markers):\n",
    "    plot_alg(data2, j, marker)\n",
    "plt.title('Precision vs  Price', size=15)\n",
    "plt.xlabel('Price', size=14)\n",
    "plt.ylabel('Precision', size=14)\n",
    "plt.legend(handles2, labels2, fontsize = 12)\n",
    "plt.grid()"
   ]
  },
  {
   "cell_type": "markdown",
   "metadata": {},
   "source": [
    "# 7. Loss vs price"
   ]
  },
  {
   "cell_type": "code",
   "execution_count": null,
   "metadata": {
    "collapsed": true
   },
   "outputs": [],
   "source": [
    "data2 = pd.read_csv('../output/data/loss_tests_lr5_fr005.csv')\n",
    "\n",
    "fig, ax = plt.subplots(figsize=(8,6))\n",
    "ax.set_color_cycle(colors)\n",
    "J = [3, 5, 10]\n",
    "markers = ['.', '*', '^']\n",
    "def plot_alg(data, J, marker):\n",
    "    for alg in algs_arr:\n",
    "        x = data.loc[(data['alg'] == alg) & (data['J'] == J)]['price_mean'].values\n",
    "        y = data.loc[(data['alg'] == alg) & (data['J'] == J)]['loss_mean'].values\n",
    "        plt.plot(x, y, label='J={},  '.format(J)+alg, marker=marker)\n",
    "\n",
    "for j, marker in zip(J, markers):\n",
    "    plot_alg(data2, j, marker)\n",
    "plt.title('Loss vs  Price', size=15)\n",
    "plt.xlabel('Price', size=14)\n",
    "plt.ylabel('Loss', size=14)\n",
    "plt.legend(handles2, labels2, fontsize = 12)\n",
    "plt.grid()"
   ]
  },
  {
   "cell_type": "markdown",
   "metadata": {},
   "source": [
    "# 8. Loss vs Price (Zoomed SM-runs)"
   ]
  },
  {
   "cell_type": "code",
   "execution_count": null,
   "metadata": {
    "collapsed": true
   },
   "outputs": [],
   "source": [
    "data = pd.read_csv('../output/data/loss_tests_lr5_fr005.csv')\n",
    "data = data.loc[(data['alg'] == 'SM-runs')]\n",
    "\n",
    "fig, ax = plt.subplots(figsize=(8,6))\n",
    "plt.gca().set_color_cycle(['b', 'steelblue', 'cornflowerblue'])\n",
    "\n",
    "def plot_alg(J, marker):\n",
    "    y = data.loc[(data['J'] == J)]['loss_mean'].values\n",
    "    x = data.loc[(data['J'] == J)]['price_mean'].values\n",
    "    err = data.loc[(data['J'] == J)]['loss_std'].values\n",
    "    plt.plot(x, y, label='J={},  '.format(J), marker=marker)\n",
    "#     plt.errorbar(x, y, yerr=err, marker=marker)\n",
    "\n",
    "plot_alg(3, '.')\n",
    "plot_alg(5, '*')\n",
    "plot_alg(10, '^')\n",
    "\n",
    "plt.title('Loss vs Price (SM-runs)', size=15)\n",
    "plt.xlabel('Price', size=14)\n",
    "plt.ylabel('Loss', size=14)\n",
    "plt.legend(fontsize = 12)\n",
    "plt.grid()"
   ]
  },
  {
   "cell_type": "markdown",
   "metadata": {},
   "source": [
    "# 9. Presicion, Recall vs Nt, J"
   ]
  },
  {
   "cell_type": "code",
   "execution_count": null,
   "metadata": {
    "collapsed": true
   },
   "outputs": [],
   "source": [
    "data = pd.read_csv('../output/data/loss_tests_lr5_fr005.csv')\n",
    "\n",
    "colors = ['red', 'blue', 'green']\n",
    "fig, ax = plt.subplots(nrows=1, ncols=2, gridspec_kw = {'width_ratios':[1, 1]}, figsize=(16,6))\n",
    "ax[0].set_color_cycle(colors)\n",
    "J = [3, 5, 10]\n",
    "\n",
    "def plot_alg(data, J, marker, i, metric):\n",
    "    for alg in algs_arr:\n",
    "        x = data.loc[(data['alg'] == alg) & (data['J'] == J)]['price_mean'].values\n",
    "        y = data.loc[(data['alg'] == alg) & (data['J'] == J)][metric].values\n",
    "        ax[i].plot(x, y, label='J={},  '.format(J)+alg, marker=marker)\n",
    "\n",
    "for j, marker in zip(J, markers):\n",
    "    plot_alg(data, j, marker, 0, 'precision')        \n",
    "ax[0].set_title('Precision vs  Price', size=15)\n",
    "ax[0].set_xlabel('Price', size=14)\n",
    "ax[0].set_ylabel('Precision', size=14)\n",
    "ax[0].legend(handles2, labels2, fontsize = 12)\n",
    "ax[0].grid()\n",
    "\n",
    "ax[1].set_color_cycle(colors)\n",
    "for j, marker in zip(J, markers):\n",
    "    plot_alg(data, j, marker, 1, 'recall') \n",
    "ax[1].set_title('Recal vs  Price', size=15)\n",
    "ax[1].set_xlabel('Price', size=14)\n",
    "ax[1].set_ylabel('Recall', size=14)\n",
    "ax[1].legend(handles2, labels2, fontsize = 12)\n",
    "ax[1].grid()"
   ]
  },
  {
   "cell_type": "markdown",
   "metadata": {},
   "source": [
    "# 10. Vary papers per worker"
   ]
  },
  {
   "cell_type": "code",
   "execution_count": null,
   "metadata": {
    "collapsed": true
   },
   "outputs": [],
   "source": [
    "data1 = pd.read_csv('../output/data/loss_tests_cr5_paper5_20worker.csv')\n",
    "data1 =data1.loc[(data1['J'] == 5)] # 5 baselins vs 20 m_runs\n",
    "data2 = pd.read_csv('../output/data/loss_tests_lr5_fr005.csv')\n",
    "data2 = data2.loc[(data2['J'] == 5)] # 10 baselins vs 40 m_runs\n",
    "data3 = pd.read_csv('../output/data/loss_tests_cr5_paper25_100worker.csv')\n",
    "data3 =data3.loc[(data3['J'] == 5)] # 25 baselins vs 100 m_runs\n",
    "\n",
    "colors = ['red', 'blue', 'green']\n",
    "markers = ['^', '*', '.']\n",
    "labels = ['5   papers', '10 papers', '25 papers']\n",
    "# legend set up\n",
    "handles3 = []\n",
    "labels3 = []\n",
    "for alg, col in zip(algs_arr, colors):\n",
    "    handles3.append(mlines.Line2D([], [], color=col, marker='', label=alg))\n",
    "    labels3.append(alg)\n",
    "for marker, lable in zip(markers, labels):\n",
    "    handles3.append(mlines.Line2D([], [], linestyle='none', color='black', marker=marker))\n",
    "    labels3.append(lable)\n",
    "\n",
    "fig, ax = plt.subplots(figsize=(8,6))\n",
    "plt.gca().set_color_cycle(colors)\n",
    "\n",
    "def plot_alg(data, marker, label):\n",
    "    for alg in algs_arr:\n",
    "        x = data.loc[data['alg'] == alg]['price_mean']\n",
    "        y = data.loc[data['alg'] == alg]['loss_mean']\n",
    "        plt.plot(x, y, label=alg+' '+label, marker=marker)\n",
    "\n",
    "for data, marker, label in zip([data1, data2, data3], markers, labels):\n",
    "    plot_alg(data, marker, label)\n",
    "    \n",
    "plt.title('Loss vs Price\\n(Vary #papers per worker, J = 5, #criteria = 4)', size=15)\n",
    "plt.xlabel('Price', size=14)\n",
    "plt.ylabel('Loss', size=14)\n",
    "plt.legend(handles3, labels3, fontsize = 12)\n",
    "plt.grid()"
   ]
  },
  {
   "cell_type": "markdown",
   "metadata": {
    "collapsed": true
   },
   "source": [
    "# 11. Vary accuracy error"
   ]
  },
  {
   "cell_type": "code",
   "execution_count": null,
   "metadata": {
    "collapsed": true
   },
   "outputs": [],
   "source": [
    "handles_er = []\n",
    "labels_er = ['+10% Error', '- 10% Error', 'Ground Truth']\n",
    "handles_er.append(mlines.Line2D([], [], color='red', marker='.', label='+10% Error'))\n",
    "handles_er.append(mlines.Line2D([], [], color='blue', marker='*', label=' -10% Error'))\n",
    "handles_er.append(mlines.Line2D([], [], color='green', marker='^', label='Ground Truth'))"
   ]
  },
  {
   "cell_type": "code",
   "execution_count": null,
   "metadata": {
    "collapsed": true
   },
   "outputs": [],
   "source": [
    "data = pd.read_csv('../output/data/accurcy_criteria_experiment_varyM.csv')\n",
    "\n",
    "fig, ax = plt.subplots(figsize=(8,6))\n",
    "# colors = ['red', 'red', 'red', 'blue', 'blue', 'blue', 'green', 'green', 'green']\n",
    "ax.set_color_cycle(colors)\n",
    "\n",
    "markers = ['.', '*', '^']\n",
    "\n",
    "# markers = ['.', '*']\n",
    "m = 5\n",
    "# M = [3, 5, 100]\n",
    "acc_terms = ['10', '-10', 'gt']\n",
    "def plot_alg(data, marker, acc_term):\n",
    "    x = data.loc[(data['acc_term'] == acc_term) & (data['M'] == m)]['price_mean'].values\n",
    "    y = data.loc[(data['acc_term'] == acc_term) & (data['M'] == m)]['f_beta'].values\n",
    "    plt.plot(x, y, label='M={}, acc_err={} '.format(m, acc_term), marker=marker)\n",
    "\n",
    "for marker, acc_term in zip(markers, acc_terms):\n",
    "    plot_alg(data, marker, acc_term)\n",
    "plt.title('Impact of Accuracy Error\\n SM-runs, J = 5, M = 5', size=15)\n",
    "plt.xlabel('Price', size=14)\n",
    "plt.ylabel('F beta', size=14)\n",
    "plt.legend(handles_er, labels_er, fontsize = 12)\n",
    "plt.grid()"
   ]
  },
  {
   "cell_type": "markdown",
   "metadata": {},
   "source": [
    "# 12. Vary power error"
   ]
  },
  {
   "cell_type": "code",
   "execution_count": null,
   "metadata": {
    "collapsed": true
   },
   "outputs": [],
   "source": [
    "data = pd.read_csv('../output/data/power_criteria_experiment_varyM.csv')\n",
    "\n",
    "fig, ax = plt.subplots(figsize=(8,6))\n",
    "ax.set_color_cycle(colors)\n",
    "theta = 0.3\n",
    "\n",
    "markers = ['.', '*', '^']\n",
    "m=5\n",
    "\n",
    "pow_terms = ['10', '-10', 'gt']\n",
    "def plot_alg(data, marker, pow_term):\n",
    "    x = data.loc[(data['pow_term'] == pow_term) & (data['M'] == m) & (data['theta'] == theta)]['price_mean'].values\n",
    "    y = data.loc[(data['pow_term'] == pow_term) & (data['M'] == m) & (data['theta'] == theta)]['f_beta'].values\n",
    "    plt.plot(x, y, label='M={}, acc_err={} '.format(m, pow_term), marker=marker)\n",
    "\n",
    "for marker, pow_term in zip(markers, pow_terms):\n",
    "    plot_alg(data, marker, pow_term)\n",
    "plt.title('Impact of Power Error\\n SM-runs, J = 5, M = 5', size=15)\n",
    "plt.xlabel('Price', size=14)\n",
    "plt.ylabel('F beta', size=14)\n",
    "plt.legend(handles_er, labels_er, fontsize = 12)\n",
    "plt.grid()"
   ]
  },
  {
   "cell_type": "markdown",
   "metadata": {},
   "source": [
    "# 13. Vary M "
   ]
  },
  {
   "cell_type": "code",
   "execution_count": null,
   "metadata": {
    "collapsed": true
   },
   "outputs": [],
   "source": [
    "data = pd.read_csv('../output/data/loss_price_varyM.csv')\n",
    "\n",
    "fig, ax = plt.subplots(figsize=(8,6))\n",
    "ax.set_color_cycle(colors)\n",
    "\n",
    "markers = ['.', '*', '^']\n",
    "M = [3, 5, 100]\n",
    "def plot_alg(data, marker, m):\n",
    "    x = data.loc[(data['M'] == m)]['price_mean'].values\n",
    "    y = data.loc[(data['M'] == m)]['f_beta'].values\n",
    "    plt.plot(x, y, label='M = {}'.format(m), marker=marker)\n",
    "\n",
    "for marker, m in zip(markers, M):\n",
    "    plot_alg(data, marker, m)\n",
    "plt.title('Impact of vary M\\n SM-runs, J = 5', size=15)\n",
    "plt.xlabel('Price', size=14)\n",
    "plt.ylabel('F beta', size=14)\n",
    "plt.legend(fontsize = 12)\n",
    "plt.grid()"
   ]
  },
  {
   "cell_type": "markdown",
   "metadata": {},
   "source": [
    "# 14. ROC curves"
   ]
  },
  {
   "cell_type": "code",
   "execution_count": null,
   "metadata": {
    "collapsed": true
   },
   "outputs": [],
   "source": [
    "data = pd.read_csv('../output/data/roc_curves_nt4_j3.csv')\n",
    "x_b = data['x_b'].dropna()\n",
    "y_b = data['y_b'].dropna()\n",
    "x_m = data['x_m'].dropna()\n",
    "y_m = data['y_m'].dropna()\n",
    "x_sm = data['x_sm'].dropna()\n",
    "y_sm = data['y_sm'].dropna()\n",
    "auc_b = data['auc_b'].dropna().values[0]\n",
    "auc_m = data['auc_m'].dropna().values[0]\n",
    "auc_sm = data['auc_sm'].dropna().values[0]\n",
    "\n",
    "lw = 1.7\n",
    "plt.figure(figsize=(8,6))\n",
    "# Nt=4 J=3\n",
    "\n",
    "handles = []\n",
    "handles.append(mlines.Line2D([], [], linestyle='none', color='black', label='Nt = 4, J = 3                '))\n",
    "handles.append(mlines.Line2D([], [], color='r', lw=lw, label='Baseline (AUC=%0.2f, price=13.2)' % auc_b, linestyle='--'))\n",
    "handles.append(mlines.Line2D([], [], color='g', lw=lw, label='M-runs    (AUC=%0.2f, price=10.2)' % auc_m, linestyle='--'))\n",
    "handles.append(mlines.Line2D([], [], color='b', lw=lw, label='SM-runs  (AUC=%0.2f, price=7.2)' % auc_sm, linestyle='--'))\n",
    "\n",
    "plt.plot(x_b, y_b, color='r', lw=lw, linestyle='--')\n",
    "plt.plot(x_m, y_m, color='g', lw=lw, linestyle='--')\n",
    "plt.plot(x_sm, y_sm, color='b', lw=lw, linestyle='--')\n",
    "\n",
    "\n",
    "# Nt=4 J=5\n",
    "data = pd.read_csv('../output/data/roc_curves_nt4_j5.csv')\n",
    "x_b = data['x_b'].dropna()\n",
    "y_b = data['y_b'].dropna()\n",
    "x_m = data['x_m'].dropna()\n",
    "y_m = data['y_m'].dropna()\n",
    "x_sm = data['x_sm'].dropna()\n",
    "y_sm = data['y_sm'].dropna()\n",
    "auc_b = data['auc_b'].dropna().values[0]\n",
    "auc_m = data['auc_m'].dropna().values[0]\n",
    "auc_sm = data['auc_sm'].dropna().values[0]\n",
    "\n",
    "handles.append(mlines.Line2D([], [], linestyle='none', color='black', label='Nt = 4, J = 5                '))\n",
    "handles.append(mlines.Line2D([], [], color='r', lw=lw, label='Baseline (AUC=%0.2f, price=22)' % auc_b))\n",
    "handles.append(mlines.Line2D([], [], color='g', lw=lw, label='M-runs    (AUC=%0.2f, price=17.3)' % auc_m))\n",
    "handles.append(mlines.Line2D([], [], color='b', lw=lw, label='SM-runs  (AUC=%0.2f, price=7.8)' % auc_sm))\n",
    "\n",
    "\n",
    "plt.plot(x_b, y_b, color='r', lw=lw)\n",
    "plt.plot(x_m, y_m, color='g', lw=lw)\n",
    "plt.plot(x_sm, y_sm, color='b', lw=lw)\n",
    "plt.plot([0, 1], [0, 1], color='black', lw=lw, linestyle='--')\n",
    "plt.xlim([-0.02, 1.0])\n",
    "plt.ylim([0.0, 1.05])\n",
    "plt.xlabel('False Positive Rate',  size=14)\n",
    "plt.ylabel('True Positive Rate',  size=14)\n",
    "plt.title('Receiver operating characteristic',  size=15)\n",
    "plt.legend(handles=handles,loc=\"lower right\", fontsize = 12)\n",
    "plt.show()"
   ]
  },
  {
   "cell_type": "markdown",
   "metadata": {
    "collapsed": true
   },
   "source": [
    "# 15. Ecperimental results"
   ]
  },
  {
   "cell_type": "code",
   "execution_count": null,
   "metadata": {
    "collapsed": true
   },
   "outputs": [],
   "source": [
    "data = pd.read_csv('../output/data/experimental_results.csv')\n",
    "\n",
    "fig, ax = plt.subplots(figsize=(8,6))\n",
    "colors = ['red', 'blue', 'green']\n",
    "ax.set_color_cycle(colors)\n",
    "algs_arr = ['Baseline', 'SM-runs', 'M-runs']\n",
    "J = [3, 5, 10]\n",
    "markers = ['.', '*', '^']\n",
    "def plot_alg(data, J, marker):\n",
    "    for alg in algs_arr:\n",
    "        x = data.loc[(data['alg'] == alg) & (data['J'] == J)]['price_mean'].values\n",
    "        y = data.loc[(data['alg'] == alg) & (data['J'] == J)]['precision'].values\n",
    "        plt.plot(x, y, label='J={},  '.format(J)+alg, marker=marker)\n",
    "\n",
    "for j, marker in zip(J, markers):\n",
    "    plot_alg(data, j, marker)\n",
    "\n",
    "# plot_alg(data, 5, '.')\n",
    "plt.title('Precision vs Price (semi-real data)\\n#papers = 100, #criteria = 2, M = 10, lr = 5', size=15)\n",
    "plt.xlabel('Price', size=14)\n",
    "plt.ylabel('Precision', size=14)\n",
    "plt.legend(handles2, labels2, fontsize = 12)\n",
    "plt.grid()"
   ]
  },
  {
   "cell_type": "markdown",
   "metadata": {
    "collapsed": true
   },
   "source": [
    "<h1> Hybrid  crowd-machine collaboration </h1>"
   ]
  },
  {
   "cell_type": "code",
   "execution_count": null,
   "metadata": {
    "collapsed": true
   },
   "outputs": [],
   "source": [
    "data = pd.read_csv('../output/data/fig1_acc05_095_1000items_conf95.csv')\n",
    "\n",
    "fig, ax = plt.subplots(figsize=(8,6))\n",
    "colors = ['red', 'blue', 'green']\n",
    "algos = ['Machines-Ensemble', 'Hybrid-Ensemble']\n",
    "ax.set_color_cycle(colors)\n",
    "x = [0., 0.1, 0.2, 0.3, 0.4, 0.5, 0.6, 0.7, 0.8, 0.9]\n",
    "\n",
    "markers = ['.', '*']\n",
    "def plot_alg(data, alg, marker):\n",
    "    y = data.loc[(data['alg'] == alg)]['loss_mean'].values\n",
    "    plt.plot(x, y, label=alg, marker=marker)\n",
    "    \n",
    "y_mean = np.mean(data.loc[(data['alg'] == 'Crowd-Ensemble')]['loss_mean'].values)\n",
    "y = [y_mean]*len(x)\n",
    "plt.plot(x, y, label='Crowd-Ensemble', marker='^')\n",
    "\n",
    "for alg, marker in zip(algos, markers):\n",
    "    plot_alg(data, alg, marker)\n",
    "plt.title('Loss vs Machine Accuracy (0.4-0.8)', size=15)\n",
    "plt.xlabel('Correlation', size=14)\n",
    "plt.ylabel('Loss', size=14)\n",
    "plt.legend(fontsize = 12)\n",
    "plt.grid()\n",
    "\n",
    "# -----------------------------------------\n"
   ]
  },
  {
   "cell_type": "code",
   "execution_count": null,
   "metadata": {
    "collapsed": true
   },
   "outputs": [],
   "source": [
    "fig, ax = plt.subplots(figsize=(8,6))\n",
    "colors = ['red', 'blue', 'green']\n",
    "algos = ['Machines-Ensemble', 'Hybrid-Ensemble']\n",
    "ax.set_color_cycle(colors)\n",
    "x = [0., 0.1, 0.2, 0.3, 0.4, 0.5, 0.6, 0.7, 0.8, 0.9]\n",
    "\n",
    "def plot_alg(data, alg, marker):\n",
    "    y = data.loc[(data['alg'] == alg)]['f_beta'].values\n",
    "    plt.plot(x, y, label=alg, marker=marker)\n",
    "    \n",
    "y_mean = np.mean(data.loc[(data['alg'] == 'Crowd-Ensemble')]['f_beta'].values)\n",
    "y = [y_mean]*len(x)\n",
    "plt.plot(x, y, label='Crowd-Ensemble', marker='^')\n",
    "\n",
    "for alg, marker in zip(algos, markers):\n",
    "    plot_alg(data, alg, marker)\n",
    "plt.title('F beta vs Machine Accuracy (0.4-0.8)', size=15)\n",
    "plt.xlabel('Correlation', size=14)\n",
    "plt.ylabel('F beta', size=14)\n",
    "plt.legend(fontsize = 12)\n",
    "plt.grid()"
   ]
  },
  {
   "cell_type": "code",
   "execution_count": null,
   "metadata": {
    "collapsed": true
   },
   "outputs": [],
   "source": []
  },
  {
   "cell_type": "markdown",
   "metadata": {},
   "source": [
    "# Loss vs Price"
   ]
  },
  {
   "cell_type": "code",
   "execution_count": 20,
   "metadata": {},
   "outputs": [
    {
     "name": "stderr",
     "output_type": "stream",
     "text": [
      "/anaconda3/lib/python3.6/site-packages/matplotlib/cbook/deprecation.py:106: MatplotlibDeprecationWarning: The set_color_cycle attribute was deprecated in version 1.5. Use set_prop_cycle instead.\n",
      "  warnings.warn(message, mplDeprecation, stacklevel=1)\n"
     ]
    },
    {
     "data": {
      "image/png": "[encoded data removed]",
      "text/plain": [
       "<matplotlib.figure.Figure at 0x11c3eafd0>"
      ]
     },
     "metadata": {},
     "output_type": "display_data"
    }
   ],
   "source": [
    "data = pd.read_csv('../output/data/fig3_acc05_095_1000items_conf95.csv')\n",
    "# data2 = pd.read_csv('../output/data/hybrid_ensemble_acc03_07_1000items.csv')\n",
    "# data3 = pd.read_csv('../output/data/hybrid_ensemble_acc04_08_1000items.csv')\n",
    "T=100\n",
    "acc_conf=0.95\n",
    "k=5\n",
    "\n",
    "fig, ax = plt.subplots(figsize=(15,13))\n",
    "colors = ['red', 'blue', 'green']\n",
    "algos = ['Machines-Ensemble', 'Hybrid-Ensemble', 'Crowd-Ensemble']\n",
    "ax.set_color_cycle(colors)\n",
    "\n",
    "# plt.plot(data.loc[(data['alg'] == 'Machines-Ensemble')]['price_mean'].values,\n",
    "#          data.loc[(data['alg'] == 'Machines-Ensemble')]['loss_mean'].values, \n",
    "#          label='Machines-Ensemble', marker='^', linestyle='--', color='black')\n",
    "\n",
    "# plt.plot(data.loc[(data['alg'] == 'Crowd-Ensemble')]['price_mean'].values,\n",
    "#          data.loc[(data['alg'] == 'Crowd-Ensemble')]['loss_mean'].values, \n",
    "#          label='Crowd-Ensemble', marker='*', linestyle='-', color='purple')\n",
    "\n",
    "# plt.plot(data.loc[(data['alg'] == 'Hybrid-Ensemble')]['price_mean'].values,\n",
    "#          data.loc[(data['alg'] == 'Hybrid-Ensemble')]['loss_mean'].values, \n",
    "#          label='Hybrid-Ensemble (accuracy 0-1)', marker='.', linestyle='-', color='red')\n",
    "\n",
    "# plt.plot(data2.loc[(data2['alg'] == 'Hybrid-Ensemble')]['price_mean'].values,\n",
    "#          data2.loc[(data2['alg'] == 'Hybrid-Ensemble')]['loss_mean'].values, \n",
    "#          label='Hybrid-Ensemble (accuracy 0.3-0.7)', marker='>', linestyle='-', color='blue')\n",
    "\n",
    "# plt.plot(data3.loc[(data3['alg'] == 'Hybrid-Ensemble')]['price_mean'].values,\n",
    "#          data3.loc[(data3['alg'] == 'Hybrid-Ensemble')]['loss_mean'].values, \n",
    "#          label='Hybrid-Ensemble (accuracy 0.4-0.8)', marker='<', linestyle='-', color='green')\n",
    "\n",
    "markers = ['.', '*', '^']\n",
    "def plot_alg(data, alg, marker):\n",
    "    y = data.loc[(data['alg'] == alg)]['loss_mean'].values\n",
    "    x = data.loc[(data['alg'] == alg)]['price_mean'].values\n",
    "    plt.plot(x, y, label=alg, marker=marker)\n",
    "\n",
    "# y_mean = np.mean(data.loc[(data['alg'] == 'Crowd-Ensemble')]['loss_mean'].values)\n",
    "# y = [y_mean]*len(x)\n",
    "\n",
    "# plt.plot(x, y, label='Crowd-Ensemble', marker='^')\n",
    "\n",
    "for alg, marker in zip(algos, markers):\n",
    "    plot_alg(data, alg, marker)\n",
    "plt.title('Loss vs Price\\nMachine Acuracy 0.5-0.95; T={}, acc_conf={}, k={}'.format(T, acc_conf, k), size=30)\n",
    "plt.xlabel('Price (avg number of votes per item)', size=25)\n",
    "plt.ylabel('Loss', size=25)\n",
    "plt.legend(fontsize = 25)\n",
    "plt.grid()"
   ]
  },
  {
   "cell_type": "code",
   "execution_count": 22,
   "metadata": {},
   "outputs": [
    {
     "name": "stderr",
     "output_type": "stream",
     "text": [
      "/anaconda3/lib/python3.6/site-packages/matplotlib/cbook/deprecation.py:106: MatplotlibDeprecationWarning: The set_color_cycle attribute was deprecated in version 1.5. Use set_prop_cycle instead.\n",
      "  warnings.warn(message, mplDeprecation, stacklevel=1)\n"
     ]
    },
    {
     "data": {
      "image/png": "[encoded data removed]",
      "text/plain": [
       "<matplotlib.figure.Figure at 0x11b5bea20>"
      ]
     },
     "metadata": {},
     "output_type": "display_data"
    }
   ],
   "source": [
    "fig, ax = plt.subplots(figsize=(15,13))\n",
    "colors = ['red', 'blue', 'green']\n",
    "algos = ['Machines-Ensemble', 'Hybrid-Ensemble', 'Crowd-Ensemble']\n",
    "ax.set_color_cycle(colors)\n",
    "\n",
    "markers = ['.', '*', '^']\n",
    "def plot_alg(data, alg, marker):\n",
    "    y = data.loc[(data['alg'] == alg)]['f_beta'].values\n",
    "    x = data.loc[(data['alg'] == alg)]['price_mean'].values\n",
    "    plt.plot(x, y, label=alg, marker=marker)\n",
    "\n",
    "for alg, marker in zip(algos, markers):\n",
    "    plot_alg(data, alg, marker)\n",
    "plt.title('F beta vs Price\\nMachine Acuracy 0.5-0.95; T={}, acc_conf={}, k={}'.format(T, acc_conf, k), size=30)\n",
    "plt.xlabel('Price (avg number of votes per item)', size=25)\n",
    "plt.ylabel('F beta (beta=1/k)', size=25)\n",
    "plt.legend(fontsize = 25)\n",
    "plt.grid()"
   ]
  },
  {
   "cell_type": "code",
   "execution_count": null,
   "metadata": {
    "collapsed": true
   },
   "outputs": [],
   "source": [
    "(6.39 - 5.92)/6.39"
   ]
  },
  {
   "cell_type": "code",
   "execution_count": null,
   "metadata": {
    "collapsed": true
   },
   "outputs": [],
   "source": [
    "data"
   ]
  },
  {
   "cell_type": "code",
   "execution_count": null,
   "metadata": {
    "collapsed": true
   },
   "outputs": [],
   "source": [
    "(6.40-2.96)/6.40"
   ]
  },
  {
   "cell_type": "code",
   "execution_count": null,
   "metadata": {
    "collapsed": true
   },
   "outputs": [],
   "source": [
    "data.loc[(data['alg'] == alg)]['loss_mean'].values"
   ]
  },
  {
   "cell_type": "code",
   "execution_count": null,
   "metadata": {
    "collapsed": true
   },
   "outputs": [],
   "source": [
    "y = data.loc[(data['alg'] == alg)]['loss_mean'].values\n",
    "y"
   ]
  },
  {
   "cell_type": "code",
   "execution_count": null,
   "metadata": {
    "collapsed": true
   },
   "outputs": [],
   "source": []
  }
 ],
 "metadata": {
  "kernelspec": {
   "display_name": "Python 3",
   "language": "python",
   "name": "python3"
  },
  "language_info": {
   "codemirror_mode": {
    "name": "ipython",
    "version": 3
   },
   "file_extension": ".py",
   "mimetype": "text/x-python",
   "name": "python",
   "nbconvert_exporter": "python",
   "pygments_lexer": "ipython3",
   "version": "3.6.3"
  }
 },
 "nbformat": 4,
 "nbformat_minor": 1
}
